{
 "cells": [
  {
   "cell_type": "markdown",
   "metadata": {},
   "source": [
    "## IBM SkillsBuild CyberStart Bootcamp Week 2"
   ]
  },
  {
   "cell_type": "markdown",
   "metadata": {},
   "source": [
    "### Minimum Eucledean Distance Calculation"
   ]
  },
  {
   "cell_type": "markdown",
   "metadata": {},
   "source": [
    "The Euclidean distance is the “ordinary” straight line distance between two points in Euclidean space. With this formula, you can find the distance between two points in the plane or three-dimensional space.\n",
    "\n",
    "#### Mission:\n",
    "\n",
    "Using the concepts of functions and loops in Python, you need to write a program that performs the following operations:\n",
    "\n",
    "#### Identification of Points:\n",
    "\n",
    "Create a list named _'points'_. This list should contain tuples representing points in 2D space. For example, the point '(x, y)' will be represented as a tuple '(x, y)'.\n",
    "\n",
    "#### Writing a Function for Euclidean Distance:\n",
    "\n",
    "Define a function called 'euclideanDistance'. This function should take two tuples (each representing a point) and return the Euclidean distance between these two points.\n",
    "\n",
    "#### Calculate Distances:\n",
    "\n",
    "Use a loop, calculate distances between every two points in 'points' list. Keep this distances in 'distances' list.\n",
    "\n",
    "#### Find the Minimum Distance:\n",
    "\n",
    "Find minimum distance from ‘distances’ list and write"
   ]
  },
  {
   "cell_type": "code",
   "execution_count": 10,
   "metadata": {},
   "outputs": [],
   "source": [
    "import math"
   ]
  },
  {
   "cell_type": "markdown",
   "metadata": {},
   "source": [
    "#### Euclediean Distance Function"
   ]
  },
  {
   "cell_type": "code",
   "execution_count": 26,
   "metadata": {},
   "outputs": [],
   "source": [
    "def euclidean_distance(point_one: tuple,point_two: tuple) -> float:\n",
    "    x_distance = math.pow(point_one[0] - point_two[0],2)\n",
    "    y_distance = math.pow(point_one[1] - point_two[1],2)\n",
    "    result = math.sqrt(x_distance + y_distance)\n",
    "    return result"
   ]
  },
  {
   "cell_type": "code",
   "execution_count": 29,
   "metadata": {},
   "outputs": [],
   "source": [
    "try:\n",
    "    num_of_inputs = int(input(\"Kaç adet nokta girileceğini yazınız: \"))\n",
    "except:\n",
    "    print(\"Lütfen geçerli bir deger giriniz\")\n",
    "\n",
    "inputs = []\n",
    "\n",
    "for _ in range(num_of_inputs):\n",
    "    coordinates = map(float,input(\"x ve y noktalarını aralarında bir boşluk bırakarak giriniz: \").strip().split())\n",
    "    coordinates = tuple(coordinates)\n",
    "    inputs.append(coordinates)"
   ]
  },
  {
   "cell_type": "code",
   "execution_count": 31,
   "metadata": {},
   "outputs": [
    {
     "name": "stdout",
     "output_type": "stream",
     "text": [
      "[(0.0, 0.0), (0.0, 3.0), (4.0, 0.0)]\n",
      "Minimum distance between the points: 3.0\n"
     ]
    }
   ],
   "source": [
    "distances = []\n",
    "\n",
    "for i in range(num_of_inputs):\n",
    "    for j in range(num_of_inputs):\n",
    "        if i == j:\n",
    "            continue\n",
    "        test_distance = euclidean_distance(inputs[i],inputs[j])\n",
    "        distances.append(test_distance)\n",
    "\n",
    "print(inputs)\n",
    "print(f\"Minimum distance between the points: {min(distances)}\")"
   ]
  }
 ],
 "metadata": {
  "kernelspec": {
   "display_name": "Python 3",
   "language": "python",
   "name": "python3"
  },
  "language_info": {
   "codemirror_mode": {
    "name": "ipython",
    "version": 3
   },
   "file_extension": ".py",
   "mimetype": "text/x-python",
   "name": "python",
   "nbconvert_exporter": "python",
   "pygments_lexer": "ipython3",
   "version": "3.11.8"
  }
 },
 "nbformat": 4,
 "nbformat_minor": 2
}
